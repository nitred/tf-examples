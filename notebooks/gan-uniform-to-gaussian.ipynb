{
 "cells": [
  {
   "cell_type": "code",
   "execution_count": 21,
   "metadata": {
    "collapsed": false
   },
   "outputs": [],
   "source": [
    "%matplotlib notebook\n",
    "from matplotlib import pyplot as plt\n",
    "from keras.models import Model, Sequential\n",
    "from keras.layers import Dense\n",
    "from keras.layers import Input, Merge\n",
    "from keras.activations import relu, tanh, sigmoid, softmax\n",
    "from keras.optimizers import Adam, SGD\n",
    "from scipy.stats import norm\n",
    "import numpy as np"
   ]
  },
  {
   "cell_type": "markdown",
   "metadata": {},
   "source": [
    "# Data Extraction - Gaussian\n",
    "data = 3G(0, 1) + 2G(3, 2) + 5G(-5, 3)"
   ]
  },
  {
   "cell_type": "code",
   "execution_count": 35,
   "metadata": {
    "collapsed": false
   },
   "outputs": [],
   "source": [
    "# def create_gaussian_mixture(n, x_range):\n",
    "#     x = (x_range * np.random.rand(n)) - (x_range / 2.0)\n",
    "#     pdf = lambda x: 3*norm.pdf(x, loc=0, scale=1) + 2*norm.pdf(x, loc=3, scale=2) + 5*norm.pdf(x, loc=-5, scale=3)\n",
    "#     y = pdf(x)\n",
    "#     return x, y\n",
    "\n",
    "# # Sample waveform\n",
    "# x, y = create_gaussian_mixture(1000, 30)\n",
    "# plt.scatter(x, y)"
   ]
  },
  {
   "cell_type": "code",
   "execution_count": 11,
   "metadata": {
    "collapsed": true
   },
   "outputs": [],
   "source": [
    "n_train = 1000\n",
    "n_test = 200\n",
    "n_samples = n_train + n_test\n",
    "X = np.linspace(-n_samples/2.0, n_samples/2.0, n_samples) + 0.01*np.random.rand(n_samples) # noise (z)\n",
    "X = X[np.random.permutation(n_samples)] # randomize the noise\n",
    "Y = np.random.normal(size=n_train + n_test) # data (x)\n",
    "(X_train, Y_train), (X_test, Y_test) = (X[:n_train], Y[:n_train]), (X[n_train:], Y[n_train:])"
   ]
  },
  {
   "cell_type": "code",
   "execution_count": 12,
   "metadata": {
    "collapsed": false
   },
   "outputs": [
    {
     "name": "stdout",
     "output_type": "stream",
     "text": [
      "(1000,) 59.5566225988\n",
      "(1000,) 1.51096381949\n",
      "(200,) -347.781290577\n",
      "(200,) 0.54375781295\n"
     ]
    }
   ],
   "source": [
    "print(X_train.shape, X_train[0])\n",
    "print(Y_train.shape, Y_train[0])\n",
    "print(X_test.shape, X_test[0])\n",
    "print(Y_test.shape, Y_test[0])"
   ]
  },
  {
   "cell_type": "markdown",
   "metadata": {},
   "source": [
    "# Model Parameters"
   ]
  },
  {
   "cell_type": "code",
   "execution_count": null,
   "metadata": {
    "collapsed": true
   },
   "outputs": [],
   "source": []
  },
  {
   "cell_type": "markdown",
   "metadata": {},
   "source": [
    "# Generative Model"
   ]
  },
  {
   "cell_type": "code",
   "execution_count": 16,
   "metadata": {
    "collapsed": false
   },
   "outputs": [
    {
     "name": "stdout",
     "output_type": "stream",
     "text": [
      "____________________________________________________________________________________________________\n",
      "Layer (type)                     Output Shape          Param #     Connected to                     \n",
      "====================================================================================================\n",
      "dense_6 (Dense)                  (None, 32)            64          dense_input_3[0][0]              \n",
      "____________________________________________________________________________________________________\n",
      "dense_7 (Dense)                  (None, 32)            1056        dense_6[0][0]                    \n",
      "____________________________________________________________________________________________________\n",
      "dense_8 (Dense)                  (None, 1)             33          dense_7[0][0]                    \n",
      "====================================================================================================\n",
      "Total params: 1,153\n",
      "Trainable params: 1,153\n",
      "Non-trainable params: 0\n",
      "____________________________________________________________________________________________________\n"
     ]
    }
   ],
   "source": [
    "G = Sequential()\n",
    "G.add(Dense(32, input_dim=1))\n",
    "G.add(Dense(32))\n",
    "G.add(Dense(1))\n",
    "G.compile(loss='binary_crossentropy', optimizer=Adam())\n",
    "G.summary()"
   ]
  },
  {
   "cell_type": "markdown",
   "metadata": {},
   "source": [
    "# Discrimator"
   ]
  },
  {
   "cell_type": "code",
   "execution_count": 14,
   "metadata": {
    "collapsed": false
   },
   "outputs": [
    {
     "name": "stdout",
     "output_type": "stream",
     "text": [
      "____________________________________________________________________________________________________\n",
      "Layer (type)                     Output Shape          Param #     Connected to                     \n",
      "====================================================================================================\n",
      "dense_3 (Dense)                  (None, 32)            64          dense_input_2[0][0]              \n",
      "____________________________________________________________________________________________________\n",
      "dense_4 (Dense)                  (None, 32)            1056        dense_3[0][0]                    \n",
      "____________________________________________________________________________________________________\n",
      "dense_5 (Dense)                  (None, 1)             33          dense_4[0][0]                    \n",
      "====================================================================================================\n",
      "Total params: 1,153\n",
      "Trainable params: 1,153\n",
      "Non-trainable params: 0\n",
      "____________________________________________________________________________________________________\n"
     ]
    }
   ],
   "source": [
    "D = Sequential()\n",
    "D.add(Dense(32, input_dim=1))\n",
    "D.add(Dense(32, input_dim=1))\n",
    "D.add(Dense(1))\n",
    "D.compile(loss='categorical_crossentropy', optimizer=Adam())\n",
    "D.summary()"
   ]
  },
  {
   "cell_type": "code",
   "execution_count": 25,
   "metadata": {
    "collapsed": false
   },
   "outputs": [
    {
     "name": "stdout",
     "output_type": "stream",
     "text": [
      "____________________________________________________________________________________________________\n",
      "Layer (type)                     Output Shape          Param #     Connected to                     \n",
      "====================================================================================================\n",
      "input_4 (InputLayer)             (None, 1)             0                                            \n",
      "____________________________________________________________________________________________________\n",
      "sequential_3 (Sequential)        (None, 1)             1153        input_4[0][0]                    \n",
      "____________________________________________________________________________________________________\n",
      "sequential_2 (Sequential)        (None, 1)             1153        sequential_3[4][0]               \n",
      "====================================================================================================\n",
      "Total params: 2,306\n",
      "Trainable params: 2,306\n",
      "Non-trainable params: 0\n",
      "____________________________________________________________________________________________________\n"
     ]
    }
   ],
   "source": [
    "gan_input = Input(shape=[1])\n",
    "gan_net = D(G(gan_input))\n",
    "GAN = Model(gan_input, gan_net)\n",
    "GAN.compile(loss='categorical_crossentropy', optimizer=Adam())\n",
    "GAN.summary()"
   ]
  },
  {
   "cell_type": "code",
   "execution_count": 6,
   "metadata": {
    "collapsed": false
   },
   "outputs": [
    {
     "data": {
      "text/plain": [
       "array([8, 1, 2, 6, 4, 0, 5, 7, 9, 3])"
      ]
     },
     "execution_count": 6,
     "metadata": {},
     "output_type": "execute_result"
    }
   ],
   "source": []
  },
  {
   "cell_type": "code",
   "execution_count": 8,
   "metadata": {
    "collapsed": false
   },
   "outputs": [
    {
     "name": "stdout",
     "output_type": "stream",
     "text": [
      "[1 5 4 0 3 7 9 6 2 8]\n",
      "[0 1 2 3 4 5 6 7 8 9]\n",
      "[1 5 4 0 3 7 9 6 2 8]\n"
     ]
    }
   ],
   "source": [
    "order = np.random.permutation(10)\n",
    "arange = np.arange(10)\n",
    "print(order)\n",
    "print(arange)\n",
    "print(arange[order])"
   ]
  },
  {
   "cell_type": "code",
   "execution_count": null,
   "metadata": {
    "collapsed": true
   },
   "outputs": [],
   "source": []
  }
 ],
 "metadata": {
  "kernelspec": {
   "display_name": "Python 3",
   "language": "python",
   "name": "python3"
  },
  "language_info": {
   "codemirror_mode": {
    "name": "ipython",
    "version": 3
   },
   "file_extension": ".py",
   "mimetype": "text/x-python",
   "name": "python",
   "nbconvert_exporter": "python",
   "pygments_lexer": "ipython3",
   "version": "3.5.2"
  }
 },
 "nbformat": 4,
 "nbformat_minor": 2
}
